{
 "cells": [
  {
   "cell_type": "markdown",
   "metadata": {},
   "source": [
    "# Dallas Cowboys Season 2021 stats"
   ]
  },
  {
   "cell_type": "code",
   "execution_count": null,
   "metadata": {},
   "outputs": [],
   "source": [
    "import pandas as pd"
   ]
  },
  {
   "cell_type": "markdown",
   "metadata": {},
   "source": [
    "## Data Extraction"
   ]
  },
  {
   "cell_type": "code",
   "execution_count": null,
   "metadata": {},
   "outputs": [],
   "source": [
    "dallas_url = \"https://www.pro-football-reference.com/teams/dal/2021.htm\""
   ]
  },
  {
   "cell_type": "code",
   "execution_count": null,
   "metadata": {},
   "outputs": [],
   "source": [
    "dfs = pd.read_html(dallas_url)\n",
    "season_stats_raw = dfs[0]\n",
    "weekly_stats_raw = dfs[1]\n",
    "redzone_downs_raw = dfs[0]"
   ]
  },
  {
   "cell_type": "markdown",
   "metadata": {},
   "source": [
    "# Data Cleaning"
   ]
  },
  {
   "cell_type": "code",
   "execution_count": null,
   "metadata": {},
   "outputs": [],
   "source": [
    "print(f\"Shape: {weekly_stats_raw.shape}\")\n",
    "weekly_stats_raw.info()"
   ]
  },
  {
   "cell_type": "code",
   "execution_count": null,
   "metadata": {},
   "outputs": [],
   "source": [
    "weekly_stats_raw.dtypes"
   ]
  },
  {
   "cell_type": "code",
   "execution_count": null,
   "metadata": {},
   "outputs": [],
   "source": [
    "# Create column new names dict\n",
    "column_dict = {\n",
    "    \"TotYd\": \"Total_Yards\",\n",
    "    \"1stD\":  \"First_Downs\",\n",
    "    \"TO\": \"Turnovers\",\n",
    "    \"RushY\": \"Rush_Yards\",\n",
    "    \"PassY\": \"Pass_Yards\",\n",
    "    \"Rec\": \"Record\",\n",
    "    \"Score\": \"Points\",\n",
    "    \"Tm\": \"Scored\",\n",
    "    \"Opp\": \"Allowed\",\n",
    "    \"Unnamed: 0_level_0\": \"\",\n",
    "    \"Unnamed: 1_level_0\": \"\",\n",
    "    \"Unnamed: 2_level_0\": \"\",\n",
    "    \"Unnamed: 3_level_0\": \"\",\n",
    "    \"Unnamed: 4_level_0\": \"\",\n",
    "    \"Unnamed: 5_level_0\": \"\",\n",
    "    \"Unnamed: 6_level_0\": \"\",\n",
    "    \"Unnamed: 7_level_0\": \"\",\n",
    "    \"Unnamed: 8_level_0\": \"\",\n",
    "    \"Unnamed: 9_level_0\": \"\",\n",
    "    \"Unnamed: 3_level_1\": \"Kickoff_Time\",\n",
    "    \"Unnamed: 4_level_1\": \"Boxscore\",\n",
    "    \"Unnamed: 5_level_1\": \"Result\",\n",
    "    \"Unnamed: 8_level_1\": \"Local\",\n",
    "    \"Sp. Tms\": \"Special_Teams\"    \n",
    "}\n",
    "# Apply names to columns\n",
    "weekly_stats_raw = weekly_stats_raw.rename(columns=column_dict)\n",
    "# Create list of columns\n",
    "week_new_columns = [' '.join(col).strip() for col in weekly_stats_raw.columns.values]\n",
    "week_new_columns = [col_name.replace(\" \", \"_\") for col_name in week_new_columns]\n",
    "week_new_columns = [\"Opponent\" if col_name == \"Allowed\" else col_name for col_name in week_new_columns]\n",
    "# Apply new column names (flatten)\n",
    "weekly_stats_raw.columns = week_new_columns"
   ]
  },
  {
   "cell_type": "code",
   "execution_count": null,
   "metadata": {},
   "outputs": [],
   "source": [
    "weekly_stats_clean = weekly_stats_raw.copy(deep=True)"
   ]
  },
  {
   "cell_type": "code",
   "execution_count": null,
   "metadata": {},
   "outputs": [],
   "source": [
    "# Remove empty rows\n",
    "weekly_stats_clean = weekly_stats_clean[weekly_stats_clean['Day'].notna()]"
   ]
  },
  {
   "cell_type": "code",
   "execution_count": null,
   "metadata": {},
   "outputs": [],
   "source": [
    "# Modify columns data\n",
    "weekly_stats_clean[\"OT\"] = weekly_stats_clean[\"OT\"].map(lambda x: True if x==\"OT\" else False)\n",
    "weekly_stats_clean[\"Result\"] = weekly_stats_clean[\"Result\"].map(lambda x: True if x==\"W\" else False)\n",
    "weekly_stats_clean[\"Local\"] = weekly_stats_clean[\"Local\"].map(lambda x: True if x!=\"@\" else False)"
   ]
  },
  {
   "cell_type": "code",
   "execution_count": null,
   "metadata": {},
   "outputs": [],
   "source": [
    "# Add years and hour to date\n",
    "weekly_stats_clean.loc[weekly_stats_clean[\"Week\"].str.isnumeric(), \"Date\"] += \" 2021 \" + weekly_stats_clean.loc[weekly_stats_clean[\"Week\"].str.isnumeric(), \"Kickoff_Time\"]\n",
    "weekly_stats_clean.loc[weekly_stats_clean[\"Week\"] == \"Wild Card\", \"Date\"] += \" 2022 \" + weekly_stats_clean.loc[weekly_stats_clean[\"Week\"] == \"Wild Card\", \"Kickoff_Time\"] \n",
    "# Transform date str to datetime\n",
    "weekly_stats_clean[\"Date\"] = pd.to_datetime(weekly_stats_clean[\"Date\"], format='%B %d %Y %I:%M%p ET')\n",
    "weekly_stats_clean[\"Date\"][0]"
   ]
  },
  {
   "cell_type": "code",
   "execution_count": null,
   "metadata": {},
   "outputs": [],
   "source": [
    "weekly_stats_clean.drop(columns=[\"Boxscore\",\"Kickoff_Time\",\"Day\"], inplace=True)\n",
    "weekly_stats_clean.columns"
   ]
  },
  {
   "cell_type": "code",
   "execution_count": null,
   "metadata": {},
   "outputs": [],
   "source": [
    "# Replace missing values with 0's\n",
    "weekly_stats_clean.fillna(0, inplace=True)"
   ]
  },
  {
   "cell_type": "code",
   "execution_count": null,
   "metadata": {},
   "outputs": [],
   "source": [
    "reg_season_stats = weekly_stats_clean.iloc[:-1,:].convert_dtypes()\n",
    "postseason_stats = weekly_stats_clean.iloc[-1,:].to_frame().convert_dtypes()"
   ]
  },
  {
   "cell_type": "markdown",
   "metadata": {},
   "source": [
    "### Data Exploration"
   ]
  },
  {
   "cell_type": "markdown",
   "metadata": {},
   "source": [
    "#### Regular Season Stats"
   ]
  },
  {
   "cell_type": "code",
   "execution_count": null,
   "metadata": {},
   "outputs": [],
   "source": [
    "reg_season_stats.describe()"
   ]
  }
 ],
 "metadata": {
  "interpreter": {
   "hash": "a08ebf9f53fb3769292c9000b634fc22b27359cf14328f3ca1aa290350c78684"
  },
  "kernelspec": {
   "display_name": "Python 3.8.8 ('jenv': venv)",
   "language": "python",
   "name": "python3"
  },
  "language_info": {
   "codemirror_mode": {
    "name": "ipython",
    "version": 3
   },
   "file_extension": ".py",
   "mimetype": "text/x-python",
   "name": "python",
   "nbconvert_exporter": "python",
   "pygments_lexer": "ipython3",
   "version": "3.8.8"
  },
  "orig_nbformat": 4
 },
 "nbformat": 4,
 "nbformat_minor": 2
}
