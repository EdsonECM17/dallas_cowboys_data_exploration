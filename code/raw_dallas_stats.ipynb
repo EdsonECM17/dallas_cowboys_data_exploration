{
 "cells": [
  {
   "cell_type": "markdown",
   "metadata": {},
   "source": [
    "# Dallas Cowboys Season 2021 Stats"
   ]
  },
  {
   "cell_type": "code",
   "execution_count": null,
   "metadata": {},
   "outputs": [],
   "source": [
    "import pandas as pd\n",
    "import os"
   ]
  },
  {
   "cell_type": "code",
   "execution_count": null,
   "metadata": {},
   "outputs": [],
   "source": [
    "year = 2021\n",
    "team = \"Dallas Cowboys\""
   ]
  },
  {
   "cell_type": "markdown",
   "metadata": {},
   "source": [
    "## Data Extraction"
   ]
  },
  {
   "cell_type": "code",
   "execution_count": null,
   "metadata": {},
   "outputs": [],
   "source": [
    "dallas_url = f\"https://www.pro-football-reference.com/teams/dal/{year}.htm\"\n"
   ]
  },
  {
   "cell_type": "code",
   "execution_count": null,
   "metadata": {},
   "outputs": [],
   "source": [
    "dfs = pd.read_html(dallas_url)\n",
    "season_stats_raw = dfs[0]\n",
    "results_raw = dfs[1]\n",
    "conversions_raw = dfs[2]"
   ]
  },
  {
   "cell_type": "code",
   "execution_count": null,
   "metadata": {},
   "outputs": [],
   "source": [
    "print(f\"Shape: {season_stats_raw.shape}\")\n",
    "season_stats_raw.head(3)"
   ]
  },
  {
   "cell_type": "code",
   "execution_count": null,
   "metadata": {},
   "outputs": [],
   "source": [
    "print(f\"Shape: {results_raw.shape}\")\n",
    "results_raw.head(3)"
   ]
  },
  {
   "cell_type": "code",
   "execution_count": null,
   "metadata": {},
   "outputs": [],
   "source": [
    "print(f\"Shape: {conversions_raw.shape}\")\n",
    "conversions_raw.head(3)"
   ]
  },
  {
   "cell_type": "markdown",
   "metadata": {},
   "source": [
    "## Data Cleaning"
   ]
  },
  {
   "cell_type": "markdown",
   "metadata": {},
   "source": [
    "### Season Data (Summary Stats and Conversions)"
   ]
  },
  {
   "cell_type": "markdown",
   "metadata": {},
   "source": [
    "#### Sumary Stats"
   ]
  },
  {
   "cell_type": "code",
   "execution_count": null,
   "metadata": {},
   "outputs": [],
   "source": [
    "season_stats_raw.columns"
   ]
  },
  {
   "cell_type": "code",
   "execution_count": null,
   "metadata": {},
   "outputs": [],
   "source": [
    "# Create column new names dict\n",
    "season_column_dict = {\n",
    "    \"Yds\": \"Yards\",\n",
    "    \"Pts\": \"Points\",\n",
    "    \"PF\": \"Scored Points\",\n",
    "    \"Tot Yds & TO\": \"Offense\",\n",
    "    \"Ply\": \"Plays\",\n",
    "    \"TO\": \"Turnovers\",\n",
    "    \"FL\": \"Fumbles\",\n",
    "    \"1stD\":  \"First_Downs\",\n",
    "    \"Cmp\": \"Completions\",\n",
    "    \"Att\": \"Attempts\",\n",
    "    \"Yds\": \"Yards\",\n",
    "    \"Pen\": \"Number\",\n",
    "    \"1stPy\": \"First_Downs_by_Penalty\",\n",
    "    \"#Dr\": \"Number of Drives\",\n",
    "    \"Sc%\": \"%_Scoring_Drives\",\n",
    "    \"TO%\": \"%_Turnovers_Drives\"    \n",
    "}\n",
    "# Apply names to columns\n",
    "season_stats_raw = season_stats_raw.rename(columns=season_column_dict)\n",
    "# Create list of columns\n",
    "season_new_columns = [' '.join(col).strip() if \"Unnamed\" not in col[0] else col[1] for col in season_stats_raw.columns.values]\n",
    "season_new_columns = [col_name.replace(\" \", \"_\") for col_name in season_new_columns]\n",
    "# Apply new column names (flatten)\n",
    "season_stats_raw.columns = season_new_columns\n",
    "season_stats_raw.columns"
   ]
  },
  {
   "cell_type": "code",
   "execution_count": null,
   "metadata": {},
   "outputs": [],
   "source": [
    "season_stats_raw = season_stats_raw.convert_dtypes()\n",
    "season_stats_raw.dtypes"
   ]
  },
  {
   "cell_type": "markdown",
   "metadata": {},
   "source": [
    "#### Conversions"
   ]
  },
  {
   "cell_type": "code",
   "execution_count": null,
   "metadata": {},
   "outputs": [],
   "source": [
    "conversions_raw.columns"
   ]
  },
  {
   "cell_type": "code",
   "execution_count": null,
   "metadata": {},
   "outputs": [],
   "source": [
    "# Create list of columns\n",
    "conversion_new_columns = [col[1] for col in conversions_raw.columns.values]\n",
    "conversion_new_columns = [col_name.replace(\" \", \"_\") for col_name in conversion_new_columns]\n",
    "# Apply new column names (flatten)\n",
    "conversions_raw.columns = conversion_new_columns\n",
    "conversions_raw.columns"
   ]
  },
  {
   "cell_type": "code",
   "execution_count": null,
   "metadata": {},
   "outputs": [],
   "source": [
    "conversions_raw = conversions_raw.convert_dtypes()\n",
    "conversions_raw.dtypes"
   ]
  },
  {
   "cell_type": "markdown",
   "metadata": {},
   "source": [
    "#### Merge Season Dfs"
   ]
  },
  {
   "cell_type": "code",
   "execution_count": null,
   "metadata": {},
   "outputs": [],
   "source": [
    "season_complete = season_stats_raw.merge(conversions_raw, on=\"Player\")\n",
    "season_complete"
   ]
  },
  {
   "cell_type": "code",
   "execution_count": null,
   "metadata": {},
   "outputs": [],
   "source": [
    "rankings_clean = season_complete.loc[season_complete[\"Player\"].str.contains(\"Lg\")].dropna(axis=1).reset_index(drop=True)\n",
    "season_stats_clean = season_complete.loc[~season_complete[\"Player\"].str.contains(\"Lg\")].dropna(axis=1).reset_index(drop=True)\n",
    "rankings_clean"
   ]
  },
  {
   "cell_type": "markdown",
   "metadata": {},
   "source": [
    "### Data per Week"
   ]
  },
  {
   "cell_type": "code",
   "execution_count": null,
   "metadata": {},
   "outputs": [],
   "source": [
    "results_raw.columns"
   ]
  },
  {
   "cell_type": "code",
   "execution_count": null,
   "metadata": {},
   "outputs": [],
   "source": [
    "# Create column new names dict\n",
    "results_columns = {\n",
    "    \"TotYd\": \"Total_Yards\",\n",
    "    \"1stD\":  \"First_Downs\",\n",
    "    \"TO\": \"Turnovers\",\n",
    "    \"RushY\": \"Rush_Yards\",\n",
    "    \"PassY\": \"Pass_Yards\",\n",
    "    \"Rec\": \"Record\",\n",
    "    \"Score\": \"Points\",\n",
    "    \"Tm\": \"Scored\",\n",
    "    \"Opp\": \"Allowed\",\n",
    "    \"Unnamed: 3_level_1\": \"Kickoff_Time\",\n",
    "    \"Unnamed: 4_level_1\": \"Boxscore\",\n",
    "    \"Unnamed: 5_level_1\": \"Result\",\n",
    "    \"Unnamed: 8_level_1\": \"Local\",\n",
    "    \"Sp. Tms\": \"Special_Teams\"    \n",
    "}\n",
    "# Apply names to columns\n",
    "results_raw = results_raw.rename(columns=results_columns)\n",
    "# Create list of columns\n",
    "results_new_columns = [' '.join(col).strip() if \"Unnamed\" not in col[0] else col[1] for col in results_raw.columns.values]\n",
    "results_new_columns = [col_name.replace(\" \", \"_\") for col_name in results_new_columns]\n",
    "results_new_columns = [\"Opponent\" if col_name == \"Allowed\" else col_name for col_name in results_new_columns]\n",
    "# Apply new column names (flatten)\n",
    "results_raw.columns = results_new_columns\n",
    "results_raw.columns"
   ]
  },
  {
   "cell_type": "code",
   "execution_count": null,
   "metadata": {},
   "outputs": [],
   "source": [
    "results_raw.head(2)"
   ]
  },
  {
   "cell_type": "code",
   "execution_count": null,
   "metadata": {},
   "outputs": [],
   "source": [
    "weekly_stats_clean = results_raw.copy(deep=True)"
   ]
  },
  {
   "cell_type": "code",
   "execution_count": null,
   "metadata": {},
   "outputs": [],
   "source": [
    "# Remove empty rows\n",
    "weekly_stats_clean = weekly_stats_clean[weekly_stats_clean['Day'].notna()]"
   ]
  },
  {
   "cell_type": "code",
   "execution_count": null,
   "metadata": {},
   "outputs": [],
   "source": [
    "# Convert week to str (not str default if no team postseason)\n",
    "weekly_stats_clean[\"Week\"] = weekly_stats_clean[\"Week\"].astype(str)\n",
    "weekly_stats_clean[\"Week\"].dtype"
   ]
  },
  {
   "cell_type": "code",
   "execution_count": null,
   "metadata": {},
   "outputs": [],
   "source": [
    "# Add years and hour to date\n",
    "weekly_stats_clean.loc[weekly_stats_clean[\"Week\"].str.isnumeric(), \"Date\"] += f\" {year} \" + weekly_stats_clean.loc[weekly_stats_clean[\"Week\"].str.isnumeric(), \"Kickoff_Time\"]\n",
    "weekly_stats_clean.loc[~weekly_stats_clean[\"Week\"].str.isnumeric(), \"Date\"] += f\" {year+1} \" + weekly_stats_clean.loc[weekly_stats_clean[\"Week\"] == \"Wild Card\", \"Kickoff_Time\"] \n",
    "# Transform date str to datetime\n",
    "weekly_stats_clean[\"Date\"] = pd.to_datetime(weekly_stats_clean[\"Date\"], format='%B %d %Y %I:%M%p ET')\n",
    "weekly_stats_clean[\"Date\"][0]"
   ]
  },
  {
   "cell_type": "code",
   "execution_count": null,
   "metadata": {},
   "outputs": [],
   "source": [
    "weekly_stats_clean.drop(columns=[\"Boxscore\",\"Kickoff_Time\",\"Day\",\"Expected_Points_Offense\", \"Expected_Points_Defense\",\n",
    "    \"Expected_Points_Special_Teams\"], inplace=True)\n",
    "weekly_stats_clean.columns"
   ]
  },
  {
   "cell_type": "code",
   "execution_count": null,
   "metadata": {},
   "outputs": [],
   "source": [
    "# Replace missing values with 0's\n",
    "weekly_stats_clean.fillna(0, inplace=True)"
   ]
  },
  {
   "cell_type": "code",
   "execution_count": null,
   "metadata": {},
   "outputs": [],
   "source": [
    "# Modify columns data\n",
    "weekly_stats_clean[\"OT\"] = weekly_stats_clean[\"OT\"].map(lambda x: True if x==\"OT\" else False)\n",
    "weekly_stats_clean[\"Result\"] = weekly_stats_clean[\"Result\"].map(lambda x: True if x==\"W\" else False)\n",
    "weekly_stats_clean[\"Local\"] = weekly_stats_clean[\"Local\"].map(lambda x: True if x!=\"@\" else False)\n",
    "weekly_stats_clean[\"Local\"]"
   ]
  },
  {
   "cell_type": "code",
   "execution_count": null,
   "metadata": {},
   "outputs": [],
   "source": [
    "weekly_stats_clean = weekly_stats_clean.convert_dtypes()\n",
    "weekly_stats_clean.dtypes"
   ]
  },
  {
   "cell_type": "code",
   "execution_count": null,
   "metadata": {},
   "outputs": [],
   "source": [
    "reg_season_stats = weekly_stats_clean.loc[weekly_stats_clean[\"Week\"].str.isnumeric()].reset_index(drop=True)\n",
    "postseason_stats = weekly_stats_clean.loc[~weekly_stats_clean[\"Week\"].str.isnumeric()].reset_index(drop=True)"
   ]
  },
  {
   "cell_type": "markdown",
   "metadata": {},
   "source": [
    "## Export data"
   ]
  },
  {
   "cell_type": "code",
   "execution_count": null,
   "metadata": {},
   "outputs": [],
   "source": [
    "folder = \"./data\"\n",
    "if not os.path.exists(folder):\n",
    "    os.makedirs(folder)\n",
    "reg_season_stats.to_csv(f\"{folder}/{team}_{year}_season_game_stats.csv\".replace(\" \",\"_\"), index=False)\n",
    "postseason_stats.to_csv(f\"{folder}/{team}_{year}_postseason_game_stats.csv\".replace(\" \",\"_\"), index=False)\n",
    "rankings_clean.to_csv(f\"{folder}/{team}_{year}_season_stats.csv\".replace(\" \",\"_\"), index=False)\n",
    "season_stats_clean.to_csv(f\"{folder}/{team}_{year}_season_rakings.csv\".replace(\" \",\"_\"), index=False)\n"
   ]
  }
 ],
 "metadata": {
  "interpreter": {
   "hash": "a08ebf9f53fb3769292c9000b634fc22b27359cf14328f3ca1aa290350c78684"
  },
  "kernelspec": {
   "display_name": "Python 3.8.8 ('jenv': venv)",
   "language": "python",
   "name": "python3"
  },
  "language_info": {
   "codemirror_mode": {
    "name": "ipython",
    "version": 3
   },
   "file_extension": ".py",
   "mimetype": "text/x-python",
   "name": "python",
   "nbconvert_exporter": "python",
   "pygments_lexer": "ipython3",
   "version": "3.8.8"
  },
  "orig_nbformat": 4
 },
 "nbformat": 4,
 "nbformat_minor": 2
}
